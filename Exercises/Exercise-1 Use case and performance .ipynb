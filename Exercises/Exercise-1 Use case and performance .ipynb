{
 "cells": [
  {
   "cell_type": "markdown",
   "metadata": {},
   "source": [
    "# Bank marketing use case | Introduction\n",
    "\n",
    "## 0. Setup"
   ]
  },
  {
   "cell_type": "code",
   "execution_count": null,
   "metadata": {},
   "outputs": [],
   "source": [
    "import pandas as pd\n",
    "import numpy as np\n",
    "import pickle"
   ]
  },
  {
   "cell_type": "code",
   "execution_count": null,
   "metadata": {},
   "outputs": [],
   "source": [
    "import sys\n",
    "sys.path.append(\"..\")"
   ]
  },
  {
   "cell_type": "code",
   "execution_count": null,
   "metadata": {},
   "outputs": [],
   "source": [
    "import warnings\n",
    "warnings.filterwarnings(\"ignore\")"
   ]
  },
  {
   "cell_type": "markdown",
   "metadata": {},
   "source": [
    "## 1. Use case"
   ]
  },
  {
   "cell_type": "markdown",
   "metadata": {},
   "source": [
    "### Introduction and business goal\n",
    "\n",
    "Throughout the class of Monitoring Machine Learning Models in Python, we will use a freely adapted version of the `Bank Marketing` dataset (you can find the original version [here]( https://archive.ics.uci.edu/ml/datasets/Bank+Marketing)). The dataset has been modified for our example. \n",
    "\n",
    "This exercise will familiarize you with the use case and the data we are using.\n",
    "\n",
    "The `Bank Marketing` dataset is related with direct marketing campaigns (phone calls) of a Portuguese banking institution. The classification goal is to predict whether or not a client will subscribe to a term deposit. \n",
    "\n",
    "As a data team, you were asked to identify the customers who are most likely to subscribe for a new term deposit. A well-targeted customer is expected to make the company earn a gross revenue of `$70`. Each phone call costs `$5` to the bank. The business team wants to minimise the phone call marketing costs, and therefore wants that:\n",
    "- about `70%` of the calls result in a subscription,\n",
    "- the profit (gross revenue - costs) resulting from the campaign should be min `$6000`/month\n",
    "\n",
    "Moreover, the bank has a capacity of `300` calls per month.  \n",
    "\n",
    "### The data\n",
    "\n",
    "The datasets are available in the working directory, in the `data` folder. For each month, we have collected a list of potential customers we would like to reach out. Let's have a look at the dataset for `january`"
   ]
  },
  {
   "cell_type": "code",
   "execution_count": null,
   "metadata": {},
   "outputs": [],
   "source": [
    "jan = pd.read_csv('../data/predict/jan-data.csv')\n",
    "jan.head()"
   ]
  },
  {
   "cell_type": "markdown",
   "metadata": {},
   "source": [
    "For your information, here is the description of the fields of the dataset:\n",
    "\n",
    "1. `age` (numeric)\n",
    "2. `job` : type of job (categorical: “admin”, “blue-collar”, “entrepreneur”, “housemaid”, “management”, “retired”, “self-employed”, “services”, “student”, “technician”, “unemployed”, “unknown”)\n",
    "3. `marital` : marital status (categorical: “divorced”, “married”, “single”, “unknown”)\n",
    "4. `education` : (categorical: “basic.4y”, “basic.6y”, “basic.9y”, “high.school”, “illiterate”, “professional.course”, “university.degree”, “unknown”)\n",
    "5. `default`: has credit in default? (categorical: “no”, “yes”, “unknown”)\n",
    "6. `housing`: has housing loan? (categorical: “no”, “yes”, “unknown”)\n",
    "7. `loan`: has personal loan? (categorical: “no”, “yes”, “unknown”)\n",
    "8. `contact`: contact communication type (categorical: “cellular”, “telephone”)\n",
    "9. `month`: last contact month of year (categorical: “jan”, “feb”, “mar”, …, “nov”, “dec”)\n",
    "10. `day_of_week`: last contact day of the week (categorical: “mon”, “tue”, “wed”, “thu”, “fri”)\n",
    "11. `campaign`: number of contacts performed during this campaign and for this client (numeric, includes last contact)\n",
    "12. `pdays`: number of days that passed by after the client was last contacted from a previous campaign (numeric; 999 means client was not previously contacted)\n",
    "13. `previous`: number of contacts performed before this campaign and for this client (numeric)\n",
    "14. `poutcome`: outcome of the previous marketing campaign (categorical: “failure”, “nonexistent”, “success”)\n",
    "15. `emp.var.rate`: employment variation rate — (numeric)\n",
    "16. `cons.price.idx`: consumer price index — (numeric)\n",
    "17. `cons.conf.idx`: consumer confidence index — (numeric)\n",
    "18. `euribor3m`: euribor 3 month rate — (numeric)\n",
    "19. `nr.employed`: number of employees — (numeric)\n",
    "20. `id` : the identification of the potential contractor"
   ]
  },
  {
   "cell_type": "markdown",
   "metadata": {},
   "source": [
    "### Data preparation\n",
    "\n",
    "In order to meet the model's requirements, the data has to be prepared. \n",
    "\n",
    "We will:\n",
    "- Create a new category inside `Education`\n",
    "- Dummify the categorical data fields\n",
    "- Only keep the needed features. \n"
   ]
  },
  {
   "cell_type": "code",
   "execution_count": null,
   "metadata": {},
   "outputs": [],
   "source": [
    "\n",
    "jan['education']=np.where(jan['education'] =='basic.9y', 'Basic', jan['education'])\n",
    "jan['education']=np.where(jan['education'] =='basic.6y', 'Basic', jan['education'])\n",
    "jan['education']=np.where(jan['education'] =='basic.4y', 'Basic', jan['education'])\n",
    "\n",
    "cat = ['job','marital','education','default','housing','loan','contact','month','day_of_week','poutcome']\n",
    "\n",
    "jan_dummified = pd.get_dummies(jan,columns=cat)\n",
    "\n",
    "features=['euribor3m', 'job_blue-collar', 'job_housemaid', 'marital_unknown', \n",
    "  'month_apr', 'month_aug', 'month_jul', 'month_jun', 'month_mar', \n",
    "  'month_may', 'month_nov', 'month_oct', \"poutcome_success\"] \n",
    "\n",
    "jan_final = jan_dummified[features]"
   ]
  },
  {
   "cell_type": "code",
   "execution_count": null,
   "metadata": {},
   "outputs": [],
   "source": [
    "jan_final.head()"
   ]
  },
  {
   "cell_type": "markdown",
   "metadata": {},
   "source": [
    "### The model\n",
    "\n",
    "Your team has presented several models and decided to go for a classification algorithm, a Logistic Regression, coded with the scikit-learn library. The model is available in the workspace as a pickle file. \n",
    "\n",
    "We will perform the model on the January dataset."
   ]
  },
  {
   "cell_type": "code",
   "execution_count": null,
   "metadata": {},
   "outputs": [],
   "source": [
    "model = pickle.load(open('../models/model_log.cav','rb'))\n",
    "predictions = model.predict(jan_final)\n",
    "jan_final['id'] = jan['id']\n",
    "jan_final['prediction']=pd.Series(predictions)"
   ]
  },
  {
   "cell_type": "code",
   "execution_count": null,
   "metadata": {},
   "outputs": [],
   "source": [
    "jan_final.head()"
   ]
  },
  {
   "cell_type": "code",
   "execution_count": null,
   "metadata": {},
   "outputs": [],
   "source": [
    "jan_final[jan_final.prediction==1]"
   ]
  },
  {
   "cell_type": "markdown",
   "metadata": {},
   "source": [
    "### Performance of the model\n",
    "\n",
    "Now it's your turn to manipulate the data. \n",
    "\n",
    "As only the potential customers for whom the model has returned 1 were called, we want to evaluate the performance of the model: Was the model able to correctly identify people who subscribed to the offer?\n",
    "\n",
    "The goal of this exercise is to evaluate the performance of the model in 2 ways, by comparing the predictions the model gave with the reality. Here is some valuable information:\n",
    "\n",
    "\n",
    "As a reminder : \n",
    "- A well-targeted customer = gross revenue of `$70`\n",
    "- Each phone call costs `$5` \n",
    "\n",
    "The business team wants to minimise the phone call marketing costs, and therefore wants that:\n",
    "\n",
    "- about `70%` of the calls result in a subscription,\n",
    "- the profit (gross revenue - costs) resulting from the campaign should be min `$6000`/month\n",
    "\n",
    "Moreover, the bank has a capacity of `300` calls per month.  \n",
    "\n",
    "\n",
    "- The real data are available in the `data/real/jan-data.csv` file and corresponds to the `y` column\n",
    "- We want to obtain the precision of the predictions, use known scikit learn function to do so\n",
    "- We also need to evaluate the business result of the model: how much did the model earn for the bank?\n",
    "- If more than 300 calls are foreseen, we will randomly select 300 prospects.\n",
    "\n",
    "*Hint:* A proposed solution is available in the Solutions folder of the repo\n",
    "\n",
    "In short, we ask a function to find the precision and the feedback profit of the model in january.\n"
   ]
  },
  {
   "cell_type": "code",
   "execution_count": null,
   "metadata": {},
   "outputs": [],
   "source": [
    "##Write your code here\n",
    "\n"
   ]
  },
  {
   "cell_type": "markdown",
   "metadata": {},
   "source": [
    "Is this in line with the `70%` and `$6000` target the management has set?"
   ]
  },
  {
   "cell_type": "markdown",
   "metadata": {},
   "source": [
    "### Well done!\n",
    "\n",
    "You have just finished the first exercise. We've created a function to analyse the performance of the model running in production. In the next exercise, we will discover what may affect and decrease this performance. "
   ]
  },
  {
   "cell_type": "code",
   "execution_count": null,
   "metadata": {},
   "outputs": [],
   "source": []
  }
 ],
 "metadata": {
  "kernelspec": {
   "display_name": "Python 3",
   "language": "python",
   "name": "python3"
  },
  "language_info": {
   "codemirror_mode": {
    "name": "ipython",
    "version": 3
   },
   "file_extension": ".py",
   "mimetype": "text/x-python",
   "name": "python",
   "nbconvert_exporter": "python",
   "pygments_lexer": "ipython3",
   "version": "3.7.6"
  }
 },
 "nbformat": 4,
 "nbformat_minor": 4
}
