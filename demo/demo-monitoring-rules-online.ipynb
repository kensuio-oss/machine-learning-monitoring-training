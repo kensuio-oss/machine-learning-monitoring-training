{
 "cells": [
  {
   "cell_type": "markdown",
   "metadata": {},
   "source": [
    "# Bank marketing use case\n",
    "## 0. Setup"
   ]
  },
  {
   "cell_type": "code",
   "execution_count": null,
   "metadata": {},
   "outputs": [],
   "source": [
    "import sys\n",
    "sys.path.append(\"..\")"
   ]
  },
  {
   "cell_type": "code",
   "execution_count": null,
   "metadata": {},
   "outputs": [],
   "source": [
    "import pandas as pd\n",
    "import numpy as np\n",
    "import seaborn as sns\n",
    "import pickle\n",
    "import ipywidgets as widgets\n",
    "import IPython\n",
    "import datetime\n",
    "from utils import data_prep, model_performance, extract_data_stats,kensu_client_init"
   ]
  },
  {
   "cell_type": "code",
   "execution_count": null,
   "metadata": {},
   "outputs": [],
   "source": [
    "import warnings\n",
    "warnings.filterwarnings(\"ignore\")"
   ]
  },
  {
   "cell_type": "markdown",
   "metadata": {},
   "source": [
    "## 1. Client "
   ]
  },
  {
   "cell_type": "code",
   "execution_count": null,
   "metadata": {},
   "outputs": [],
   "source": [
    "kensu_client_init()"
   ]
  },
  {
   "cell_type": "markdown",
   "metadata": {},
   "source": [
    "## January: Reference Month"
   ]
  },
  {
   "cell_type": "code",
   "execution_count": null,
   "metadata": {},
   "outputs": [],
   "source": [
    "import kensu.pandas as pd\n",
    "from kensu.utils.kensu_provider import KensuProvider\n",
    "k=KensuProvider().instance()\n",
    "i=1\n",
    "\n",
    "for el in ['jan']:\n",
    "    timestamp=int(datetime.datetime(2021,i,1).timestamp()*1000)\n",
    "    i+=1\n",
    "    k.kensu_api.api_client.default_headers[\"X-Entity-Creation-Time\"] = timestamp\n",
    "    k.timestamp=timestamp\n",
    "    customers_info = pd.read_csv('../data/predict/%s/customers-data.csv'%el)\n",
    "    contact_info = pd.read_csv('../data/predict/%s/contact-data.csv'%el)\n",
    "    business_info = pd.read_csv('../data/predict/%s/business-data.csv'%el)\n",
    "\n",
    "    customer360 = customers_info.merge(contact_info,on='id')\n",
    "    month = pd.merge(customer360,business_info)\n",
    "    month.to_csv('../data/predict/data.csv',index=False)"
   ]
  },
  {
   "cell_type": "markdown",
   "metadata": {},
   "source": [
    "## Other months"
   ]
  },
  {
   "cell_type": "code",
   "execution_count": null,
   "metadata": {},
   "outputs": [],
   "source": [
    "import kensu.pandas as pd\n",
    "from kensu.utils.kensu_provider import KensuProvider\n",
    "k=KensuProvider().instance()\n",
    "\n",
    "for el in ['feb','mar','apr','may']:\n",
    "    timestamp=int(datetime.datetime(2021,i,1).timestamp()*1000)\n",
    "    i+=1\n",
    "    k.kensu_api.api_client.default_headers[\"X-Entity-Creation-Time\"] = timestamp\n",
    "    k.timestamp=timestamp\n",
    "    customers_info = pd.read_csv('../data/predict/%s/customers-data.csv'%el)\n",
    "    contact_info = pd.read_csv('../data/predict/%s/contact-data.csv'%el)\n",
    "    business_info = pd.read_csv('../data/predict/%s/business-data.csv'%el)\n",
    "\n",
    "    customer360 = customers_info.merge(contact_info,on='id')\n",
    "    month = pd.merge(customer360,business_info)\n",
    "    month.to_csv('../data/predict/data.csv',index=False)"
   ]
  }
 ],
 "metadata": {
  "kernelspec": {
   "display_name": "Python 3",
   "language": "python",
   "name": "python3"
  },
  "language_info": {
   "codemirror_mode": {
    "name": "ipython",
    "version": 3
   },
   "file_extension": ".py",
   "mimetype": "text/x-python",
   "name": "python",
   "nbconvert_exporter": "python",
   "pygments_lexer": "ipython3",
   "version": "3.7.6"
  }
 },
 "nbformat": 4,
 "nbformat_minor": 4
}
